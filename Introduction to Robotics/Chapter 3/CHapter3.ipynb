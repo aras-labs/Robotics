{
  "nbformat": 4,
  "nbformat_minor": 0,
  "metadata": {
    "colab": {
      "provenance": []
    },
    "kernelspec": {
      "name": "python3",
      "display_name": "Python 3"
    },
    "language_info": {
      "name": "python"
    }
  },
  "cells": [
    {
      "cell_type": "markdown",
      "source": [
        "# FK_RRR"
      ],
      "metadata": {
        "id": "d4RDT5R9cchG"
      }
    },
    {
      "cell_type": "code",
      "source": [
        "import sympy as sp\n",
        "\n",
        "# DH function\n",
        "def DH(a, alpha, d, theta):\n",
        "    # Construct the Denavit-Hartenberg (DH) transformation matrix\n",
        "    T = sp.Matrix([[sp.cos(theta), -sp.sin(theta) * sp.cos(alpha), sp.sin(theta) * sp.sin(alpha), a * sp.cos(theta)],\n",
        "                   [sp.sin(theta), sp.cos(theta) * sp.cos(alpha), -sp.cos(theta) * sp.sin(alpha), a * sp.sin(theta)],\n",
        "                   [0, sp.sin(alpha), sp.cos(alpha), d],\n",
        "                   [0, 0, 0, 1]])\n",
        "    return T\n",
        "\n",
        "# SR function\n",
        "def SR(s_x, s_y, s_z, s_ox, s_oy, s_oz, theta, t):\n",
        "    # Construct the Screw-based transformation matrix\n",
        "    S = sp.Matrix([\n",
        "        [(s_x**2 - 1) * (1 - sp.cos(theta)) + 1,\n",
        "         s_x * s_y * (1 - sp.cos(theta)) - s_z * sp.sin(theta),\n",
        "         s_x * s_z * (1 - sp.cos(theta)) + s_y * sp.sin(theta),\n",
        "         t * s_x - s_ox * (s_x**2 - 1) * (1 - sp.cos(theta)) - s_oy * (s_x * s_y * (1 - sp.cos(theta)) - s_z * sp.sin(theta)) - s_oz * (s_x * s_z * (1 - sp.cos(theta)) + s_y * sp.sin(theta))],\n",
        "        [s_x * s_y * (1 - sp.cos(theta)) + s_z * sp.sin(theta),\n",
        "         (s_y**2 - 1) * (1 - sp.cos(theta)) + 1,\n",
        "         s_y * s_z * (1 - sp.cos(theta)) - s_x * sp.sin(theta),\n",
        "         t * s_y - s_ox * (s_x * s_y * (1 - sp.cos(theta)) + s_z * sp.sin(theta)) - s_oy * (s_y**2 - 1) * (1 - sp.cos(theta)) - s_oz * (s_y * s_z * (1 - sp.cos(theta)) - s_x * sp.sin(theta))],\n",
        "        [s_x * s_z * (1 - sp.cos(theta)) - s_y * sp.sin(theta),\n",
        "         s_y * s_z * (1 - sp.cos(theta)) + s_x * sp.sin(theta),\n",
        "         (s_z**2 - 1) * (1 - sp.cos(theta)) + 1,\n",
        "         t * s_z - s_ox * (s_x * s_z * (1 - sp.cos(theta)) - s_y * sp.sin(theta)) - s_oy * (s_y * s_z * (1 - sp.cos(theta)) + s_x * sp.sin(theta)) - s_oz * (s_z**2 - 1) * (1 - sp.cos(theta))],\n",
        "        [0, 0, 0, 1]\n",
        "    ])\n",
        "    return S\n",
        "\n",
        "# Main code\n",
        "# Parameter Definitions\n",
        "sp.init_printing()\n",
        "theta1, theta2, theta3, a1, a2, a3 = sp.symbols('theta1 theta2 theta3 a1 a2 a3', real=True)\n",
        "\n",
        "# DH Table\n",
        "a = sp.Matrix([a1, a2, a3])\n",
        "alpha = sp.Matrix([0, 0, 0])\n",
        "d = sp.Matrix([0, 0, 0])\n",
        "T1 = DH(a[0], alpha[0], d[0], theta1)\n",
        "T2 = DH(a[1], alpha[1], d[1], theta2)\n",
        "T3 = DH(a[2], alpha[2], d[2], theta3)\n",
        "T_Final = T1 * (T2 * T3)\n",
        "\n",
        "# Forward Kinematics\n",
        "print('Final End-Effector Position (DH method):')\n",
        "P_DH = T_Final[:3, 3]\n",
        "R_DH = T_Final[:3, :3]\n",
        "display(P_DH)\n",
        "print('=')\n",
        "display(sp.simplify(P_DH))\n",
        "\n",
        "# Screw-Based Analysis\n",
        "S1 = SR(0, 0, 1, 0, 0, 0, theta1, 0)\n",
        "S2 = SR(0, 0, 1, a1, 0, 0, theta2, 0)\n",
        "S3 = SR(0, 0, 1, a1 + a2, 0, 0, theta3, 0)\n",
        "Screw = S1 * (S2 * S3)\n",
        "\n",
        "print('********************************************************************************')\n",
        "\n",
        "# Screw-based Forward Kinematics\n",
        "U0 = sp.Matrix([1, 0, 0])\n",
        "V0 = sp.Matrix([0, 1, 0])\n",
        "W0 = sp.Matrix([0, 0, 1])\n",
        "E0 = sp.Matrix([a1 + a2 + a3, 0, 0])\n",
        "S0 = sp.Matrix([[U0, V0, W0, E0], [0, 0, 0, 1]])\n",
        "S_Final = Screw * S0\n",
        "R_SR = S_Final[:3, :3]\n",
        "P_SR = S_Final[:3, 3]\n",
        "print('Final End-Effector Position (Screw method):')\n",
        "display(P_SR)\n",
        "print('=')\n",
        "display(sp.simplify(P_SR))\n",
        "\n",
        "print('********************************************************************************')\n",
        "\n",
        "# Verification\n",
        "print('The difference of End-Effector HT found by two methods:')\n",
        "Error_T = sp.simplify(S_Final - T_Final)\n",
        "display(sp.simplify(S_Final - T_Final))"
      ],
      "metadata": {
        "colab": {
          "base_uri": "https://localhost:8080/",
          "height": 490
        },
        "id": "CtCcGB9_BUQr",
        "outputId": "247551dc-34d5-4d9d-fe27-16a72f1c350e"
      },
      "execution_count": null,
      "outputs": [
        {
          "output_type": "stream",
          "name": "stdout",
          "text": [
            "Final End-Effector Position (DH method):\n"
          ]
        },
        {
          "output_type": "display_data",
          "data": {
            "text/plain": [
              "⎡a₁⋅cos(θ₁) - (a₂⋅sin(θ₂) + a₃⋅sin(θ₂)⋅cos(θ₃) + a₃⋅sin(θ₃)⋅cos(θ₂))⋅sin(θ₁) +\n",
              "⎢                                                                             \n",
              "⎢a₁⋅sin(θ₁) + (a₂⋅sin(θ₂) + a₃⋅sin(θ₂)⋅cos(θ₃) + a₃⋅sin(θ₃)⋅cos(θ₂))⋅cos(θ₁) +\n",
              "⎢                                                                             \n",
              "⎣                                                                     0       \n",
              "\n",
              " (a₂⋅cos(θ₂) - a₃⋅sin(θ₂)⋅sin(θ₃) + a₃⋅cos(θ₂)⋅cos(θ₃))⋅cos(θ₁)⎤\n",
              "                                                               ⎥\n",
              " (a₂⋅cos(θ₂) - a₃⋅sin(θ₂)⋅sin(θ₃) + a₃⋅cos(θ₂)⋅cos(θ₃))⋅sin(θ₁)⎥\n",
              "                                                               ⎥\n",
              "                                                               ⎦"
            ],
            "text/latex": "$\\displaystyle \\left[\\begin{matrix}a_{1} \\cos{\\left(\\theta_{1} \\right)} - \\left(a_{2} \\sin{\\left(\\theta_{2} \\right)} + a_{3} \\sin{\\left(\\theta_{2} \\right)} \\cos{\\left(\\theta_{3} \\right)} + a_{3} \\sin{\\left(\\theta_{3} \\right)} \\cos{\\left(\\theta_{2} \\right)}\\right) \\sin{\\left(\\theta_{1} \\right)} + \\left(a_{2} \\cos{\\left(\\theta_{2} \\right)} - a_{3} \\sin{\\left(\\theta_{2} \\right)} \\sin{\\left(\\theta_{3} \\right)} + a_{3} \\cos{\\left(\\theta_{2} \\right)} \\cos{\\left(\\theta_{3} \\right)}\\right) \\cos{\\left(\\theta_{1} \\right)}\\\\a_{1} \\sin{\\left(\\theta_{1} \\right)} + \\left(a_{2} \\sin{\\left(\\theta_{2} \\right)} + a_{3} \\sin{\\left(\\theta_{2} \\right)} \\cos{\\left(\\theta_{3} \\right)} + a_{3} \\sin{\\left(\\theta_{3} \\right)} \\cos{\\left(\\theta_{2} \\right)}\\right) \\cos{\\left(\\theta_{1} \\right)} + \\left(a_{2} \\cos{\\left(\\theta_{2} \\right)} - a_{3} \\sin{\\left(\\theta_{2} \\right)} \\sin{\\left(\\theta_{3} \\right)} + a_{3} \\cos{\\left(\\theta_{2} \\right)} \\cos{\\left(\\theta_{3} \\right)}\\right) \\sin{\\left(\\theta_{1} \\right)}\\\\0\\end{matrix}\\right]$"
          },
          "metadata": {}
        },
        {
          "output_type": "stream",
          "name": "stdout",
          "text": [
            "=\n"
          ]
        },
        {
          "output_type": "display_data",
          "data": {
            "text/plain": [
              "⎡a₁⋅cos(θ₁) + a₂⋅cos(θ₁ + θ₂) + a₃⋅cos(θ₁ + θ₂ + θ₃)⎤\n",
              "⎢                                                   ⎥\n",
              "⎢a₁⋅sin(θ₁) + a₂⋅sin(θ₁ + θ₂) + a₃⋅sin(θ₁ + θ₂ + θ₃)⎥\n",
              "⎢                                                   ⎥\n",
              "⎣                         0                         ⎦"
            ],
            "text/latex": "$\\displaystyle \\left[\\begin{matrix}a_{1} \\cos{\\left(\\theta_{1} \\right)} + a_{2} \\cos{\\left(\\theta_{1} + \\theta_{2} \\right)} + a_{3} \\cos{\\left(\\theta_{1} + \\theta_{2} + \\theta_{3} \\right)}\\\\a_{1} \\sin{\\left(\\theta_{1} \\right)} + a_{2} \\sin{\\left(\\theta_{1} + \\theta_{2} \\right)} + a_{3} \\sin{\\left(\\theta_{1} + \\theta_{2} + \\theta_{3} \\right)}\\\\0\\end{matrix}\\right]$"
          },
          "metadata": {}
        },
        {
          "output_type": "stream",
          "name": "stdout",
          "text": [
            "********************************************************************************\n",
            "Final End-Effector Position (Screw method):\n"
          ]
        },
        {
          "output_type": "display_data",
          "data": {
            "text/plain": [
              "⎡((-sin(θ₂)⋅sin(θ₃) + cos(θ₂)⋅cos(θ₃))⋅cos(θ₁) - (sin(θ₂)⋅cos(θ₃) + sin(θ₃)⋅co\n",
              "⎢                                                                             \n",
              "⎢((-sin(θ₂)⋅sin(θ₃) + cos(θ₂)⋅cos(θ₃))⋅sin(θ₁) + (sin(θ₂)⋅cos(θ₃) + sin(θ₃)⋅co\n",
              "⎢                                                                             \n",
              "⎣                                                                             \n",
              "\n",
              "s(θ₂))⋅sin(θ₁))⋅(a₁ + a₂ + a₃) + (a₁⋅(1 - cos(θ₂)) - (1 - cos(θ₃))⋅(-a₁ - a₂)⋅\n",
              "                                                                              \n",
              "s(θ₂))⋅cos(θ₁))⋅(a₁ + a₂ + a₃) + (a₁⋅(1 - cos(θ₂)) - (1 - cos(θ₃))⋅(-a₁ - a₂)⋅\n",
              "                                                                              \n",
              "                                                                 0            \n",
              "\n",
              "cos(θ₂) + (a₁ + a₂)⋅sin(θ₂)⋅sin(θ₃))⋅cos(θ₁) - (-a₁⋅sin(θ₂) - (1 - cos(θ₃))⋅(-\n",
              "                                                                              \n",
              "cos(θ₂) + (a₁ + a₂)⋅sin(θ₂)⋅sin(θ₃))⋅sin(θ₁) + (-a₁⋅sin(θ₂) - (1 - cos(θ₃))⋅(-\n",
              "                                                                              \n",
              "                                                                              \n",
              "\n",
              "a₁ - a₂)⋅sin(θ₂) - (a₁ + a₂)⋅sin(θ₃)⋅cos(θ₂))⋅sin(θ₁)⎤\n",
              "                                                     ⎥\n",
              "a₁ - a₂)⋅sin(θ₂) - (a₁ + a₂)⋅sin(θ₃)⋅cos(θ₂))⋅cos(θ₁)⎥\n",
              "                                                     ⎥\n",
              "                                                     ⎦"
            ],
            "text/latex": "$\\displaystyle \\left[\\begin{matrix}\\left(\\left(- \\sin{\\left(\\theta_{2} \\right)} \\sin{\\left(\\theta_{3} \\right)} + \\cos{\\left(\\theta_{2} \\right)} \\cos{\\left(\\theta_{3} \\right)}\\right) \\cos{\\left(\\theta_{1} \\right)} - \\left(\\sin{\\left(\\theta_{2} \\right)} \\cos{\\left(\\theta_{3} \\right)} + \\sin{\\left(\\theta_{3} \\right)} \\cos{\\left(\\theta_{2} \\right)}\\right) \\sin{\\left(\\theta_{1} \\right)}\\right) \\left(a_{1} + a_{2} + a_{3}\\right) + \\left(a_{1} \\cdot \\left(1 - \\cos{\\left(\\theta_{2} \\right)}\\right) - \\left(1 - \\cos{\\left(\\theta_{3} \\right)}\\right) \\left(- a_{1} - a_{2}\\right) \\cos{\\left(\\theta_{2} \\right)} + \\left(a_{1} + a_{2}\\right) \\sin{\\left(\\theta_{2} \\right)} \\sin{\\left(\\theta_{3} \\right)}\\right) \\cos{\\left(\\theta_{1} \\right)} - \\left(- a_{1} \\sin{\\left(\\theta_{2} \\right)} - \\left(1 - \\cos{\\left(\\theta_{3} \\right)}\\right) \\left(- a_{1} - a_{2}\\right) \\sin{\\left(\\theta_{2} \\right)} - \\left(a_{1} + a_{2}\\right) \\sin{\\left(\\theta_{3} \\right)} \\cos{\\left(\\theta_{2} \\right)}\\right) \\sin{\\left(\\theta_{1} \\right)}\\\\\\left(\\left(- \\sin{\\left(\\theta_{2} \\right)} \\sin{\\left(\\theta_{3} \\right)} + \\cos{\\left(\\theta_{2} \\right)} \\cos{\\left(\\theta_{3} \\right)}\\right) \\sin{\\left(\\theta_{1} \\right)} + \\left(\\sin{\\left(\\theta_{2} \\right)} \\cos{\\left(\\theta_{3} \\right)} + \\sin{\\left(\\theta_{3} \\right)} \\cos{\\left(\\theta_{2} \\right)}\\right) \\cos{\\left(\\theta_{1} \\right)}\\right) \\left(a_{1} + a_{2} + a_{3}\\right) + \\left(a_{1} \\cdot \\left(1 - \\cos{\\left(\\theta_{2} \\right)}\\right) - \\left(1 - \\cos{\\left(\\theta_{3} \\right)}\\right) \\left(- a_{1} - a_{2}\\right) \\cos{\\left(\\theta_{2} \\right)} + \\left(a_{1} + a_{2}\\right) \\sin{\\left(\\theta_{2} \\right)} \\sin{\\left(\\theta_{3} \\right)}\\right) \\sin{\\left(\\theta_{1} \\right)} + \\left(- a_{1} \\sin{\\left(\\theta_{2} \\right)} - \\left(1 - \\cos{\\left(\\theta_{3} \\right)}\\right) \\left(- a_{1} - a_{2}\\right) \\sin{\\left(\\theta_{2} \\right)} - \\left(a_{1} + a_{2}\\right) \\sin{\\left(\\theta_{3} \\right)} \\cos{\\left(\\theta_{2} \\right)}\\right) \\cos{\\left(\\theta_{1} \\right)}\\\\0\\end{matrix}\\right]$"
          },
          "metadata": {}
        },
        {
          "output_type": "stream",
          "name": "stdout",
          "text": [
            "=\n"
          ]
        },
        {
          "output_type": "display_data",
          "data": {
            "text/plain": [
              "⎡a₁⋅cos(θ₁) + a₂⋅cos(θ₁ + θ₂) + a₃⋅cos(θ₁ + θ₂ + θ₃)⎤\n",
              "⎢                                                   ⎥\n",
              "⎢a₁⋅sin(θ₁) + a₂⋅sin(θ₁ + θ₂) + a₃⋅sin(θ₁ + θ₂ + θ₃)⎥\n",
              "⎢                                                   ⎥\n",
              "⎣                         0                         ⎦"
            ],
            "text/latex": "$\\displaystyle \\left[\\begin{matrix}a_{1} \\cos{\\left(\\theta_{1} \\right)} + a_{2} \\cos{\\left(\\theta_{1} + \\theta_{2} \\right)} + a_{3} \\cos{\\left(\\theta_{1} + \\theta_{2} + \\theta_{3} \\right)}\\\\a_{1} \\sin{\\left(\\theta_{1} \\right)} + a_{2} \\sin{\\left(\\theta_{1} + \\theta_{2} \\right)} + a_{3} \\sin{\\left(\\theta_{1} + \\theta_{2} + \\theta_{3} \\right)}\\\\0\\end{matrix}\\right]$"
          },
          "metadata": {}
        },
        {
          "output_type": "stream",
          "name": "stdout",
          "text": [
            "********************************************************************************\n",
            "The difference of End-Effector HT found by two methods:\n"
          ]
        },
        {
          "output_type": "display_data",
          "data": {
            "text/plain": [
              "⎡0  0  0  0⎤\n",
              "⎢          ⎥\n",
              "⎢0  0  0  0⎥\n",
              "⎢          ⎥\n",
              "⎢0  0  0  0⎥\n",
              "⎢          ⎥\n",
              "⎣0  0  0  0⎦"
            ],
            "text/latex": "$\\displaystyle \\left[\\begin{matrix}0 & 0 & 0 & 0\\\\0 & 0 & 0 & 0\\\\0 & 0 & 0 & 0\\\\0 & 0 & 0 & 0\\end{matrix}\\right]$"
          },
          "metadata": {}
        }
      ]
    },
    {
      "cell_type": "markdown",
      "source": [
        "# FK_SCARA"
      ],
      "metadata": {
        "id": "mJa_HoTCcfWt"
      }
    },
    {
      "cell_type": "code",
      "source": [
        "import sympy as sp\n",
        "\n",
        "# DH function\n",
        "def DH(a, alpha, d, theta):\n",
        "    # Construct the Denavit-Hartenberg (DH) transformation matrix\n",
        "    T = sp.Matrix([[sp.cos(theta), -sp.sin(theta) * sp.cos(alpha), sp.sin(theta) * sp.sin(alpha), a * sp.cos(theta)],\n",
        "                   [sp.sin(theta), sp.cos(theta) * sp.cos(alpha), -sp.cos(theta) * sp.sin(alpha), a * sp.sin(theta)],\n",
        "                   [0, sp.sin(alpha), sp.cos(alpha), d],\n",
        "                   [0, 0, 0, 1]])\n",
        "    return T\n",
        "\n",
        "# SR function\n",
        "def SR(s_x, s_y, s_z, s_ox, s_oy, s_oz, theta, t):\n",
        "    # Construct the Screw-based transformation matrix\n",
        "    S = sp.Matrix([\n",
        "        [(s_x**2 - 1) * (1 - sp.cos(theta)) + 1,\n",
        "         s_x * s_y * (1 - sp.cos(theta)) - s_z * sp.sin(theta),\n",
        "         s_x * s_z * (1 - sp.cos(theta)) + s_y * sp.sin(theta),\n",
        "         t * s_x - s_ox * (s_x**2 - 1) * (1 - sp.cos(theta)) - s_oy * (s_x * s_y * (1 - sp.cos(theta)) - s_z * sp.sin(theta)) - s_oz * (s_x * s_z * (1 - sp.cos(theta)) + s_y * sp.sin(theta))],\n",
        "        [s_x * s_y * (1 - sp.cos(theta)) + s_z * sp.sin(theta),\n",
        "         (s_y**2 - 1) * (1 - sp.cos(theta)) + 1,\n",
        "         s_y * s_z * (1 - sp.cos(theta)) - s_x * sp.sin(theta),\n",
        "         t * s_y - s_ox * (s_x * s_y * (1 - sp.cos(theta)) + s_z * sp.sin(theta)) - s_oy * (s_y**2 - 1) * (1 - sp.cos(theta)) - s_oz * (s_y * s_z * (1 - sp.cos(theta)) - s_x * sp.sin(theta))],\n",
        "        [s_x * s_z * (1 - sp.cos(theta)) - s_y * sp.sin(theta),\n",
        "         s_y * s_z * (1 - sp.cos(theta)) + s_x * sp.sin(theta),\n",
        "         (s_z**2 - 1) * (1 - sp.cos(theta)) + 1,\n",
        "         t * s_z - s_ox * (s_x * s_z * (1 - sp.cos(theta)) - s_y * sp.sin(theta)) - s_oy * (s_y * s_z * (1 - sp.cos(theta)) + s_x * sp.sin(theta)) - s_oz * (s_z**2 - 1) * (1 - sp.cos(theta))],\n",
        "        [0, 0, 0, 1]\n",
        "    ])\n",
        "    return S\n",
        "\n",
        "# Main code\n",
        "# Parameter Definitions\n",
        "sp.init_printing()\n",
        "theta1, theta2, theta4, d1, d3, d4, a1, a2 = sp.symbols('theta1 theta2 theta4 d1 d3 d4 a1 a2', real=True)\n",
        "\n",
        "# DH Table\n",
        "T1 = DH(a1, 0, d1, theta1)\n",
        "T2 = DH(a2, np.pi, 0, theta2)\n",
        "T3 = DH(0, 0, d3, 0)\n",
        "T4 = DH(0, 0, d4, theta4)\n",
        "T_Final = (T1 * T2) * (T4 * T3)\n",
        "\n",
        "# Forward Kinematics\n",
        "print('Final End-Effector Position (DH method):')\n",
        "P_DH = T_Final[:3, 3]\n",
        "R_DH = T_Final[:3, :3]\n",
        "\n",
        "display(P_DH)\n",
        "print('=')\n",
        "display(sp.nsimplify(P_DH,tolerance=1e-10,rational=True))\n",
        "\n",
        "print('********************************************************************************')\n",
        "\n",
        "print('Final End-Effector Orientation (DH method):')\n",
        "display(R_DH)\n",
        "print('=')\n",
        "display(sp.nsimplify(R_DH,tolerance=1e-10,rational=True))"
      ],
      "metadata": {
        "colab": {
          "base_uri": "https://localhost:8080/",
          "height": 373
        },
        "id": "Lz4FHCinKNvn",
        "outputId": "f1f6a31f-31bc-43a7-8970-aad100b60247"
      },
      "execution_count": null,
      "outputs": [
        {
          "output_type": "stream",
          "name": "stdout",
          "text": [
            "Final End-Effector Position (DH method):\n"
          ]
        },
        {
          "output_type": "display_data",
          "data": {
            "text/plain": [
              "⎡a₁⋅cos(θ₁) - a₂⋅sin(θ₁)⋅sin(θ₂) + a₂⋅cos(θ₁)⋅cos(θ₂) + (d₃ + d₄)⋅(1.224646799\n",
              "⎢                                                                             \n",
              "⎢a₁⋅sin(θ₁) + a₂⋅sin(θ₁)⋅cos(θ₂) + a₂⋅sin(θ₂)⋅cos(θ₁) + (d₃ + d₄)⋅(1.224646799\n",
              "⎢                                                                             \n",
              "⎣                                                                 d₁ - d₃ - d₄\n",
              "\n",
              "14735e-16⋅sin(θ₁)⋅cos(θ₂) + 1.22464679914735e-16⋅sin(θ₂)⋅cos(θ₁))⎤\n",
              "                                                                 ⎥\n",
              "14735e-16⋅sin(θ₁)⋅sin(θ₂) - 1.22464679914735e-16⋅cos(θ₁)⋅cos(θ₂))⎥\n",
              "                                                                 ⎥\n",
              "                                                                 ⎦"
            ],
            "text/latex": "$\\displaystyle \\left[\\begin{matrix}a_{1} \\cos{\\left(\\theta_{1} \\right)} - a_{2} \\sin{\\left(\\theta_{1} \\right)} \\sin{\\left(\\theta_{2} \\right)} + a_{2} \\cos{\\left(\\theta_{1} \\right)} \\cos{\\left(\\theta_{2} \\right)} + \\left(d_{3} + d_{4}\\right) \\left(1.22464679914735 \\cdot 10^{-16} \\sin{\\left(\\theta_{1} \\right)} \\cos{\\left(\\theta_{2} \\right)} + 1.22464679914735 \\cdot 10^{-16} \\sin{\\left(\\theta_{2} \\right)} \\cos{\\left(\\theta_{1} \\right)}\\right)\\\\a_{1} \\sin{\\left(\\theta_{1} \\right)} + a_{2} \\sin{\\left(\\theta_{1} \\right)} \\cos{\\left(\\theta_{2} \\right)} + a_{2} \\sin{\\left(\\theta_{2} \\right)} \\cos{\\left(\\theta_{1} \\right)} + \\left(d_{3} + d_{4}\\right) \\left(1.22464679914735 \\cdot 10^{-16} \\sin{\\left(\\theta_{1} \\right)} \\sin{\\left(\\theta_{2} \\right)} - 1.22464679914735 \\cdot 10^{-16} \\cos{\\left(\\theta_{1} \\right)} \\cos{\\left(\\theta_{2} \\right)}\\right)\\\\d_{1} - 1.0 d_{3} - 1.0 d_{4}\\end{matrix}\\right]$"
          },
          "metadata": {}
        },
        {
          "output_type": "stream",
          "name": "stdout",
          "text": [
            "=\n"
          ]
        },
        {
          "output_type": "display_data",
          "data": {
            "text/plain": [
              "⎡a₁⋅cos(θ₁) - a₂⋅sin(θ₁)⋅sin(θ₂) + a₂⋅cos(θ₁)⋅cos(θ₂)⎤\n",
              "⎢                                                    ⎥\n",
              "⎢a₁⋅sin(θ₁) + a₂⋅sin(θ₁)⋅cos(θ₂) + a₂⋅sin(θ₂)⋅cos(θ₁)⎥\n",
              "⎢                                                    ⎥\n",
              "⎣                    d₁ - d₃ - d₄                    ⎦"
            ],
            "text/latex": "$\\displaystyle \\left[\\begin{matrix}a_{1} \\cos{\\left(\\theta_{1} \\right)} - a_{2} \\sin{\\left(\\theta_{1} \\right)} \\sin{\\left(\\theta_{2} \\right)} + a_{2} \\cos{\\left(\\theta_{1} \\right)} \\cos{\\left(\\theta_{2} \\right)}\\\\a_{1} \\sin{\\left(\\theta_{1} \\right)} + a_{2} \\sin{\\left(\\theta_{1} \\right)} \\cos{\\left(\\theta_{2} \\right)} + a_{2} \\sin{\\left(\\theta_{2} \\right)} \\cos{\\left(\\theta_{1} \\right)}\\\\d_{1} - d_{3} - d_{4}\\end{matrix}\\right]$"
          },
          "metadata": {}
        },
        {
          "output_type": "stream",
          "name": "stdout",
          "text": [
            "********************************************************************************\n",
            "Final End-Effector Orientation (DH method):\n"
          ]
        },
        {
          "output_type": "display_data",
          "data": {
            "text/plain": [
              "⎡(-sin(θ₁)⋅sin(θ₂) + cos(θ₁)⋅cos(θ₂))⋅cos(θ₄) + (1.0⋅sin(θ₁)⋅cos(θ₂) + 1.0⋅sin\n",
              "⎢                                                                             \n",
              "⎢  (1.0⋅sin(θ₁)⋅sin(θ₂) - cos(θ₁)⋅cos(θ₂))⋅sin(θ₄) + (sin(θ₁)⋅cos(θ₂) + sin(θ₂\n",
              "⎢                                                                             \n",
              "⎣                                   1.22464679914735e-16⋅sin(θ₄)              \n",
              "\n",
              "(θ₂)⋅cos(θ₁))⋅sin(θ₄)  -(-sin(θ₁)⋅sin(θ₂) + cos(θ₁)⋅cos(θ₂))⋅sin(θ₄) + (1.0⋅si\n",
              "                                                                              \n",
              ")⋅cos(θ₁))⋅cos(θ₄)        (1.0⋅sin(θ₁)⋅sin(θ₂) - cos(θ₁)⋅cos(θ₂))⋅cos(θ₄) - (s\n",
              "                                                                              \n",
              "                                                          1.22464679914735e-16\n",
              "\n",
              "n(θ₁)⋅cos(θ₂) + 1.0⋅sin(θ₂)⋅cos(θ₁))⋅cos(θ₄)  1.22464679914735e-16⋅sin(θ₁)⋅cos\n",
              "                                                                              \n",
              "in(θ₁)⋅cos(θ₂) + sin(θ₂)⋅cos(θ₁))⋅sin(θ₄)     1.22464679914735e-16⋅sin(θ₁)⋅sin\n",
              "                                                                              \n",
              "⋅cos(θ₄)                                                                      \n",
              "\n",
              "(θ₂) + 1.22464679914735e-16⋅sin(θ₂)⋅cos(θ₁)⎤\n",
              "                                           ⎥\n",
              "(θ₂) - 1.22464679914735e-16⋅cos(θ₁)⋅cos(θ₂)⎥\n",
              "                                           ⎥\n",
              "   -1.0                                    ⎦"
            ],
            "text/latex": "$\\displaystyle \\left[\\begin{matrix}\\left(- \\sin{\\left(\\theta_{1} \\right)} \\sin{\\left(\\theta_{2} \\right)} + \\cos{\\left(\\theta_{1} \\right)} \\cos{\\left(\\theta_{2} \\right)}\\right) \\cos{\\left(\\theta_{4} \\right)} + \\left(1.0 \\sin{\\left(\\theta_{1} \\right)} \\cos{\\left(\\theta_{2} \\right)} + 1.0 \\sin{\\left(\\theta_{2} \\right)} \\cos{\\left(\\theta_{1} \\right)}\\right) \\sin{\\left(\\theta_{4} \\right)} & - \\left(- \\sin{\\left(\\theta_{1} \\right)} \\sin{\\left(\\theta_{2} \\right)} + \\cos{\\left(\\theta_{1} \\right)} \\cos{\\left(\\theta_{2} \\right)}\\right) \\sin{\\left(\\theta_{4} \\right)} + \\left(1.0 \\sin{\\left(\\theta_{1} \\right)} \\cos{\\left(\\theta_{2} \\right)} + 1.0 \\sin{\\left(\\theta_{2} \\right)} \\cos{\\left(\\theta_{1} \\right)}\\right) \\cos{\\left(\\theta_{4} \\right)} & 1.22464679914735 \\cdot 10^{-16} \\sin{\\left(\\theta_{1} \\right)} \\cos{\\left(\\theta_{2} \\right)} + 1.22464679914735 \\cdot 10^{-16} \\sin{\\left(\\theta_{2} \\right)} \\cos{\\left(\\theta_{1} \\right)}\\\\\\left(1.0 \\sin{\\left(\\theta_{1} \\right)} \\sin{\\left(\\theta_{2} \\right)} - 1.0 \\cos{\\left(\\theta_{1} \\right)} \\cos{\\left(\\theta_{2} \\right)}\\right) \\sin{\\left(\\theta_{4} \\right)} + \\left(\\sin{\\left(\\theta_{1} \\right)} \\cos{\\left(\\theta_{2} \\right)} + \\sin{\\left(\\theta_{2} \\right)} \\cos{\\left(\\theta_{1} \\right)}\\right) \\cos{\\left(\\theta_{4} \\right)} & \\left(1.0 \\sin{\\left(\\theta_{1} \\right)} \\sin{\\left(\\theta_{2} \\right)} - 1.0 \\cos{\\left(\\theta_{1} \\right)} \\cos{\\left(\\theta_{2} \\right)}\\right) \\cos{\\left(\\theta_{4} \\right)} - \\left(\\sin{\\left(\\theta_{1} \\right)} \\cos{\\left(\\theta_{2} \\right)} + \\sin{\\left(\\theta_{2} \\right)} \\cos{\\left(\\theta_{1} \\right)}\\right) \\sin{\\left(\\theta_{4} \\right)} & 1.22464679914735 \\cdot 10^{-16} \\sin{\\left(\\theta_{1} \\right)} \\sin{\\left(\\theta_{2} \\right)} - 1.22464679914735 \\cdot 10^{-16} \\cos{\\left(\\theta_{1} \\right)} \\cos{\\left(\\theta_{2} \\right)}\\\\1.22464679914735 \\cdot 10^{-16} \\sin{\\left(\\theta_{4} \\right)} & 1.22464679914735 \\cdot 10^{-16} \\cos{\\left(\\theta_{4} \\right)} & -1.0\\end{matrix}\\right]$"
          },
          "metadata": {}
        },
        {
          "output_type": "stream",
          "name": "stdout",
          "text": [
            "=\n"
          ]
        },
        {
          "output_type": "display_data",
          "data": {
            "text/plain": [
              "⎡(-sin(θ₁)⋅sin(θ₂) + cos(θ₁)⋅cos(θ₂))⋅cos(θ₄) + (sin(θ₁)⋅cos(θ₂) + sin(θ₂)⋅cos\n",
              "⎢                                                                             \n",
              "⎢(sin(θ₁)⋅sin(θ₂) - cos(θ₁)⋅cos(θ₂))⋅sin(θ₄) + (sin(θ₁)⋅cos(θ₂) + sin(θ₂)⋅cos(\n",
              "⎢                                                                             \n",
              "⎣                                            0                                \n",
              "\n",
              "(θ₁))⋅sin(θ₄)  -(-sin(θ₁)⋅sin(θ₂) + cos(θ₁)⋅cos(θ₂))⋅sin(θ₄) + (sin(θ₁)⋅cos(θ₂\n",
              "                                                                              \n",
              "θ₁))⋅cos(θ₄)    (sin(θ₁)⋅sin(θ₂) - cos(θ₁)⋅cos(θ₂))⋅cos(θ₄) - (sin(θ₁)⋅cos(θ₂)\n",
              "                                                                              \n",
              "                                                            0                 \n",
              "\n",
              ") + sin(θ₂)⋅cos(θ₁))⋅cos(θ₄)  0 ⎤\n",
              "                                ⎥\n",
              " + sin(θ₂)⋅cos(θ₁))⋅sin(θ₄)   0 ⎥\n",
              "                                ⎥\n",
              "                              -1⎦"
            ],
            "text/latex": "$\\displaystyle \\left[\\begin{matrix}\\left(- \\sin{\\left(\\theta_{1} \\right)} \\sin{\\left(\\theta_{2} \\right)} + \\cos{\\left(\\theta_{1} \\right)} \\cos{\\left(\\theta_{2} \\right)}\\right) \\cos{\\left(\\theta_{4} \\right)} + \\left(\\sin{\\left(\\theta_{1} \\right)} \\cos{\\left(\\theta_{2} \\right)} + \\sin{\\left(\\theta_{2} \\right)} \\cos{\\left(\\theta_{1} \\right)}\\right) \\sin{\\left(\\theta_{4} \\right)} & - \\left(- \\sin{\\left(\\theta_{1} \\right)} \\sin{\\left(\\theta_{2} \\right)} + \\cos{\\left(\\theta_{1} \\right)} \\cos{\\left(\\theta_{2} \\right)}\\right) \\sin{\\left(\\theta_{4} \\right)} + \\left(\\sin{\\left(\\theta_{1} \\right)} \\cos{\\left(\\theta_{2} \\right)} + \\sin{\\left(\\theta_{2} \\right)} \\cos{\\left(\\theta_{1} \\right)}\\right) \\cos{\\left(\\theta_{4} \\right)} & 0\\\\\\left(\\sin{\\left(\\theta_{1} \\right)} \\sin{\\left(\\theta_{2} \\right)} - \\cos{\\left(\\theta_{1} \\right)} \\cos{\\left(\\theta_{2} \\right)}\\right) \\sin{\\left(\\theta_{4} \\right)} + \\left(\\sin{\\left(\\theta_{1} \\right)} \\cos{\\left(\\theta_{2} \\right)} + \\sin{\\left(\\theta_{2} \\right)} \\cos{\\left(\\theta_{1} \\right)}\\right) \\cos{\\left(\\theta_{4} \\right)} & \\left(\\sin{\\left(\\theta_{1} \\right)} \\sin{\\left(\\theta_{2} \\right)} - \\cos{\\left(\\theta_{1} \\right)} \\cos{\\left(\\theta_{2} \\right)}\\right) \\cos{\\left(\\theta_{4} \\right)} - \\left(\\sin{\\left(\\theta_{1} \\right)} \\cos{\\left(\\theta_{2} \\right)} + \\sin{\\left(\\theta_{2} \\right)} \\cos{\\left(\\theta_{1} \\right)}\\right) \\sin{\\left(\\theta_{4} \\right)} & 0\\\\0 & 0 & -1\\end{matrix}\\right]$"
          },
          "metadata": {}
        }
      ]
    }
  ]
}